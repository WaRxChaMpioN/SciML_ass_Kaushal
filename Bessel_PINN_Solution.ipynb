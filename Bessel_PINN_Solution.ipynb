{
 "cells": [
  {
   "cell_type": "markdown",
   "id": "9ad146ef",
   "metadata": {},
   "source": [
    "# **Solving Bessel's Differential Equation with PINNs**"
   ]
  },
  {
   "cell_type": "markdown",
   "id": "fd226c0b-cc02-4a9b-a86c-2a338432fc81",
   "metadata": {},
   "source": [
    "# 📚 References\n",
    "\n",
    "#### **Equations and Analytical Solution**\n",
    "- Kreyszig, E.  , **_\"Advanced Engineering Mathematics\"_**, $10^{th}$ Edition, Wiley.\n",
    "\n",
    "#### **Coding Assistance**\n",
    "2. Code support and guidance were provided using OpenAI's ChatGPT.\n"
   ]
  },
  {
   "cell_type": "markdown",
   "id": "0970e99a",
   "metadata": {},
   "source": [
    "# Using Physics-Informed Neural Networks to Learn $J_0(x)$"
   ]
  },
  {
   "cell_type": "markdown",
   "id": "9cf7a2ac",
   "metadata": {},
   "source": [
    "## Problem Definition\n",
    "We aim to solve the following second-order Bessel differential equation using a Physics-Informed Neural Network (PINN):\n",
    "$$x^2 y'' + x y' + (x^2 - n^2)y = 0$$\n",
    "For this project, we set the order \\( n = 0 \\), which corresponds to solving for the Bessel function  $J_0(x) $.\n",
    "\n",
    "The domain is defined as $$ x \\in [0.01, 10] $$, and initial conditions are provided at two points in the domain:\n",
    "$$ y(0.01) = J_0(0.01), \\quad y(1.0) = J_0(1.0) $$"
   ]
  },
  {
   "cell_type": "code",
   "execution_count": 88,
   "id": "edb95927-772e-4e1b-99fe-8bc56c8169c3",
   "metadata": {},
   "outputs": [],
   "source": [
    "# ---------------------------\n",
    "# Imports and Setup\n",
    "# ---------------------------\n",
    "\n",
    "# PyTorch for building and training neural networks\n",
    "import torch\n",
    "import torch.nn as nn\n",
    "\n",
    "# NumPy for numerical operations\n",
    "import numpy as np\n",
    "\n",
    "# Matplotlib for plotting results\n",
    "import matplotlib.pyplot as plt\n",
    "\n",
    "# ---------------------------\n",
    "# Device Configuration\n",
    "# ---------------------------\n",
    "\n",
    "# Use GPU if available, otherwise fallback to CPU\n",
    "# Uncomment the line below to enable automatic device selection\n",
    "# device = torch.device(\"cuda\" if torch.cuda.is_available() else \"cpu\")\n",
    "\n",
    "# For now, manually set to CPU for compatibility\n",
    "device = 'cpu'\n",
    "\n",
    "# ---------------------------\n",
    "# Problem Setup for Bessel function\n",
    "# ---------------------------\n",
    "# Bessel function order\n",
    "n = 0\n",
    "\n",
    "# Define the domain\n",
    "x_min, x_max = 0.01, 10.0"
   ]
  },
  {
   "cell_type": "markdown",
   "id": "315e5785",
   "metadata": {},
   "source": [
    "## PINN Model\n",
    "We construct a fully-connected feedforward neural network with Tanh activation functions. The model is trained such that its outputs minimize the residual of the Bessel differential equation, while also satisfying boundary conditions."
   ]
  },
  {
   "cell_type": "code",
   "execution_count": 89,
   "id": "80fac58c-9130-4e63-8440-9eda286ff15a",
   "metadata": {},
   "outputs": [],
   "source": [
    "# Define the Physics-Informed Neural Network (PINN) model\n",
    "\n",
    "class PINN(nn.Module):\n",
    "    def __init__(self):\n",
    "        super(PINN, self).__init__()\n",
    "        \n",
    "        # A fully connected neural network with 4 layers:\n",
    "        # Input: 1 feature (x), Output: 1 value (y)\n",
    "        # Hidden layers: 3 layers with 64 neurons each\n",
    "        self.net = nn.Sequential(\n",
    "            nn.Linear(1, 64),   # First hidden layer: maps 1 -> 64\n",
    "            nn.Tanh(),           # Tanh activation for non-linearity\n",
    "            nn.Linear(64, 64), # Second hidden layer\n",
    "            nn.Tanh(),\n",
    "            nn.Linear(64, 64), # Third hidden layer\n",
    "            nn.Tanh(),\n",
    "            nn.Linear(64, 1)    # Output layer: maps 64 -> 1\n",
    "        )\n",
    "\n",
    "    def forward(self, x):\n",
    "        # Forward pass to compute network output from input x\n",
    "        return self.net(x)\n"
   ]
  },
  {
   "cell_type": "markdown",
   "id": "41b585aa",
   "metadata": {},
   "source": [
    "## Loss Function\n",
    "The loss function is composed of:\n",
    "- **Residual loss**: Enforces the Bessel equation via automatic differentiation.\n",
    "- **Boundary condition loss**: Ensures the network matches known values at $ x = 0.01 $ and $ x = 1.0 $.\n",
    "\n",
    "Total loss: \n",
    "$$\\mathcal{L} = \\text{MSE}_{\\text{residual}} + \\text{MSE}_{\\text{BC}} $$"
   ]
  },
  {
   "cell_type": "code",
   "execution_count": 90,
   "id": "5def0a7d-3e9b-4342-9fc1-be127c2c88fa",
   "metadata": {},
   "outputs": [],
   "source": [
    "# Define the loss function for Bessel's differential equation\n",
    "\n",
    "def loss_fn(model, x):\n",
    "    # Enable gradient tracking for input x\n",
    "    x.requires_grad_(True)\n",
    "\n",
    "    # Predict the output y from the model\n",
    "    y = model(x)\n",
    "\n",
    "    # First derivative dy/dx using autograd\n",
    "    dy_dx = torch.autograd.grad(\n",
    "        y, x, grad_outputs=torch.ones_like(y), create_graph=True\n",
    "    )[0]\n",
    "\n",
    "    # Second derivative d²y/dx² using autograd\n",
    "    d2y_dx2 = torch.autograd.grad(\n",
    "        dy_dx, x, grad_outputs=torch.ones_like(dy_dx), create_graph=True\n",
    "    )[0]\n",
    "\n",
    "    # Define the residual of Bessel's differential equation:\n",
    "    # x² y'' + x y' + (x² - n²) y = 0\n",
    "    residual = x**2 * d2y_dx2 + x * dy_dx + (x**2 - n**2) * y\n",
    "\n",
    "    # Mean squared error of the residual enforces the physics constraint\n",
    "    loss = torch.mean(residual**2)\n",
    "\n",
    "    # Boundary conditions:\n",
    "    # y(0.01) = Jn(0.01), y(1.0) = Jn(1.0)\n",
    "    # These values are known from the analytical Bessel function\n",
    "    y0 = model(torch.tensor([[0.01]], device=device))\n",
    "    y1 = model(torch.tensor([[1.0]], device=device))\n",
    "    loss_bc = (y0 - jn(n, 0.01))**2 + (y1 - jn(n, 1.0))**2\n",
    "\n",
    "    # Total loss = PDE residual loss + boundary condition loss\n",
    "    return loss + loss_bc\n"
   ]
  },
  {
   "cell_type": "markdown",
   "id": "8b7f5abe",
   "metadata": {},
   "source": [
    "## Training Strategy\n",
    "- Optimizer: Adam\n",
    "- Learning rate: 1e-3\n",
    "- Epochs: 5000\n",
    "- Sampling: Uniform or Beta-distribution in domain $[0.01, 10]$"
   ]
  },
  {
   "cell_type": "code",
   "execution_count": 91,
   "id": "7652269f-5242-4b5f-9b61-cf60bf1f9c25",
   "metadata": {},
   "outputs": [],
   "source": [
    "# Training function to optimize the PINN model\n",
    "\n",
    "def train(model, optimizer, epochs=5000):\n",
    "    for epoch in range(epochs):\n",
    "        model.train()              # Set model to training mode\n",
    "        optimizer.zero_grad()      # Clear previous gradients\n",
    "\n",
    "        # Sample 1000 random points from the domain [x_min, x_max]\n",
    "        # These serve as collocation points where the differential equation must be satisfied\n",
    "        x_train = torch.tensor(\n",
    "            np.random.uniform(x_min, x_max, (1000, 1)),\n",
    "            dtype=torch.float32,\n",
    "            device=device\n",
    "        )\n",
    "\n",
    "        # Compute loss (includes residual + boundary losses)\n",
    "        loss = loss_fn(model, x_train)\n",
    "\n",
    "        # Backpropagation\n",
    "        loss.backward()\n",
    "        optimizer.step()\n",
    "\n",
    "        # Print progress every 500 epochs\n",
    "        if epoch % 500 == 0:\n",
    "            print(f\"Epoch {epoch}, Loss: {loss.item():.6e}\")\n",
    "\n",
    "            \n"
   ]
  },
  {
   "cell_type": "code",
   "execution_count": 92,
   "id": "48dffb31-098b-4dcf-b8e6-8e696e2446ed",
   "metadata": {},
   "outputs": [
    {
     "name": "stdout",
     "output_type": "stream",
     "text": [
      "Epoch 0, Loss: 1.852581e+01\n",
      "Epoch 500, Loss: 2.908286e-01\n",
      "Epoch 1000, Loss: 2.564109e-01\n",
      "Epoch 1500, Loss: 3.968142e-01\n",
      "Epoch 2000, Loss: 2.522345e-01\n",
      "Epoch 2500, Loss: 2.430654e-01\n",
      "Epoch 3000, Loss: 2.615657e-01\n",
      "Epoch 3500, Loss: 2.540085e-01\n",
      "Epoch 4000, Loss: 2.506721e-01\n",
      "Epoch 4500, Loss: 2.603041e-01\n"
     ]
    }
   ],
   "source": [
    "# Initialize the PINN model and move it to the specified device (CPU or GPU)\n",
    "model = PINN().to(device)\n",
    "\n",
    "# Define the optimizer (Adam) with a learning rate of 1e-3\n",
    "optimizer = torch.optim.Adam(model.parameters(), lr=1e-3)\n",
    "\n",
    "# Train the model using the defined training function\n",
    "train(model, optimizer)\n",
    "\n",
    "# -----------------------------\n",
    "# Model Evaluation\n",
    "# -----------------------------\n",
    "\n",
    "# Generate 500 evenly spaced test points in the domain [x_min, x_max]\n",
    "x_test = np.linspace(x_min, x_max, 500).reshape(-1, 1)\n",
    "\n",
    "# Convert to PyTorch tensor and send to appropriate device\n",
    "x_tensor = torch.tensor(x_test, dtype=torch.float32, device=device)\n",
    "\n",
    "# Use the trained model to predict y values without computing gradients\n",
    "with torch.no_grad():\n",
    "    y_pred = model(x_tensor).cpu().numpy()  # Move results back to CPU for plotting\n"
   ]
  },
  {
   "cell_type": "markdown",
   "id": "dd866e8c",
   "metadata": {},
   "source": [
    "## Analytical Solution\n",
    "The analytical solution for this equation is given by the Bessel function of the first kind of order zero:\n",
    "$$ y(x) = J_0(x) $$\n",
    "This function is available in the `scipy.special` library for validation."
   ]
  },
  {
   "cell_type": "code",
   "execution_count": 93,
   "id": "36a774f5-7701-450c-8b71-92bcfee81b00",
   "metadata": {},
   "outputs": [],
   "source": [
    "# ---------------------------------\n",
    "# Analytical Solution (Ground Truth)\n",
    "# ---------------------------------\n",
    "\n",
    "# Compute the analytical solution using SciPy's Bessel function of the first kind (order n)\n",
    "# This will be used to compare with the predicted values from the PINN\n",
    "y_true = jn(n, x_test.flatten())\n"
   ]
  },
  {
   "cell_type": "code",
   "execution_count": 94,
   "id": "d8acf5ff-5928-4250-bfbf-1ff508dafce6",
   "metadata": {},
   "outputs": [
    {
     "data": {
      "image/png": "[encoded data removed]",
      "text/plain": [
       "<Figure size 1000x500 with 1 Axes>"
      ]
     },
     "metadata": {},
     "output_type": "display_data"
    }
   ],
   "source": [
    "# -----------------------------\n",
    "# Plotting the Results\n",
    "# -----------------------------\n",
    "\n",
    "plt.figure(figsize=(10, 5))  # Set the figure size\n",
    "\n",
    "# Plot the analytical solution\n",
    "plt.plot(x_test, y_true, label=\"Analytical $J_0(x)$\", linewidth=2)\n",
    "\n",
    "# Plot the predicted solution from the PINN model\n",
    "plt.plot(x_test, y_pred, '--', label=\"PINN Prediction\", linewidth=2)\n",
    "\n",
    "# Set axis labels and title\n",
    "plt.xlabel(\"x\")\n",
    "plt.ylabel(\"y(x)\")\n",
    "plt.title(\"Bessel Function $J_0(x)$ via PINN\")\n",
    "\n",
    "# Add legend and grid for clarity\n",
    "plt.legend()\n",
    "plt.grid(True)\n",
    "\n",
    "# Automatically adjust subplot parameters to give specified padding\n",
    "plt.tight_layout()\n",
    "\n",
    "# Display the plot\n",
    "plt.show()\n"
   ]
  },
  {
   "cell_type": "markdown",
   "id": "88b09bc4",
   "metadata": {},
   "source": [
    "## Conclusion\n",
    "- The Physics-Informed Neural Network (PINN) approximates the analytical solution of the Bessel differential equation.\n",
    "- However, the solution struggles to accurately capture the oscillatory and damping behavior characteristic of the Bessel function.\n",
    "- The use of the Tanh activation function and incorporation of boundary conditions help maintain model stability during training.\n",
    "- While PINNs offer a mesh-free approach to solving ODEs, alternative strategies or network architectures may be needed to better represent complex behaviors like those of Bessel functions."
   ]
  },
  {
   "cell_type": "code",
   "execution_count": null,
   "id": "eb4787b3-019a-44a2-a1d4-c28f16b47c3c",
   "metadata": {},
   "outputs": [],
   "source": []
  }
 ],
 "metadata": {
  "kernelspec": {
   "display_name": "Python 3 (ipykernel)",
   "language": "python",
   "name": "python3"
  },
  "language_info": {
   "codemirror_mode": {
    "name": "ipython",
    "version": 3
   },
   "file_extension": ".py",
   "mimetype": "text/x-python",
   "name": "python",
   "nbconvert_exporter": "python",
   "pygments_lexer": "ipython3",
   "version": "3.12.3"
  }
 },
 "nbformat": 4,
 "nbformat_minor": 5
}
